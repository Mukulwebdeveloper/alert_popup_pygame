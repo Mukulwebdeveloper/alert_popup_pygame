{
 "cells": [
  {
   "cell_type": "code",
   "execution_count": 5,
   "metadata": {},
   "outputs": [],
   "source": [
    "from influxdb_client import InfluxDBClient\n",
    "import json\n",
    "import pandas as pd\n",
    "from datetime import datetime,timedelta\n",
    "\n",
    "# ''' M1 server influxdb credentials'''\n",
    "# org = \"iit_bh\"\n",
    "# token = \"pg0rBVHySellktOpSG2Ee103-wIvSOUBM_s0KXmR0mDWM60Kn0duN0jm6EudRIJ7ogpNs1JoAiEqtzcvGca70w==\"\n",
    "# url = \"http://10.10.0.175:8086\"\n",
    "# bucket = \"iba_data_16mm\"\n",
    "\n",
    "org = \"iit_bh\"\n",
    "token = \"GEfq64vm4n-7tQ7F8AoGf5OfKlJ41hEF84NdUZ-daQJ_lIBFCzqrFMnIMCL57Dm4GGTCFyUJQsxkTeypWfq0EQ==\"\n",
    "url = \"http://127.0.0.1:8086\"\n",
    "bucket = \"iba_data_16mm\"\n",
    "\n",
    "# client = InfluxDBClient(url=url, token=token, timeout=25000)\n",
    "client = InfluxDBClient(url=url, token=token)\n",
    "query_api = client.query_api()"
   ]
  },
  {
   "cell_type": "code",
   "execution_count": null,
   "metadata": {},
   "outputs": [],
   "source": []
  },
  {
   "cell_type": "code",
   "execution_count": 6,
   "metadata": {},
   "outputs": [],
   "source": [
    "# region_list = ['CVR_L1', 'CVR_L2', 'CVAH_L1', 'CVAH_L2', 'PinchRoll_L1', 'PinchRoll_L2',\\\n",
    "#                 'SH1', 'Stand_1-6', 'Stand_7-12', 'Stand_13-18', 'Furnace_Exit']\n",
    "region_list = ['CVR_L1', 'CVR_L2', 'CVAH_L1', 'CVAH_L2', 'PinchRoll_L1', 'PinchRoll_L2',\\\n",
    "                'HMD', 'SH1', 'SH2', 'SH3', 'Stand_1-6', 'Stand_7-12', 'Stand_13-18', 'Furnace_Exit', 'Overall']"
   ]
  },
  {
   "cell_type": "code",
   "execution_count": 7,
   "metadata": {},
   "outputs": [
    {
     "name": "stdout",
     "output_type": "stream",
     "text": [
      "****************** CVR_L1 ****************\n",
      "<urllib3.connection.HTTPConnection object at 0x00000153B9551510>: Failed to establish a new connection: [WinError 10061] No connection could be made because the target machine actively refused it\n",
      "****************** CVR_L2 ****************\n",
      "<urllib3.connection.HTTPConnection object at 0x00000153B95523B0>: Failed to establish a new connection: [WinError 10061] No connection could be made because the target machine actively refused it\n",
      "****************** CVAH_L1 ****************\n",
      "<urllib3.connection.HTTPConnection object at 0x00000153B9552680>: Failed to establish a new connection: [WinError 10061] No connection could be made because the target machine actively refused it\n",
      "****************** CVAH_L2 ****************\n",
      "<urllib3.connection.HTTPConnection object at 0x00000153B9552980>: Failed to establish a new connection: [WinError 10061] No connection could be made because the target machine actively refused it\n",
      "****************** PinchRoll_L1 ****************\n",
      "<urllib3.connection.HTTPConnection object at 0x00000153B9550C70>: Failed to establish a new connection: [WinError 10061] No connection could be made because the target machine actively refused it\n",
      "****************** PinchRoll_L2 ****************\n",
      "<urllib3.connection.HTTPConnection object at 0x00000153B9550F70>: Failed to establish a new connection: [WinError 10061] No connection could be made because the target machine actively refused it\n",
      "****************** HMD ****************\n",
      "<urllib3.connection.HTTPConnection object at 0x00000153B95512D0>: Failed to establish a new connection: [WinError 10061] No connection could be made because the target machine actively refused it\n",
      "****************** SH1 ****************\n",
      "<urllib3.connection.HTTPConnection object at 0x00000153B9550D90>: Failed to establish a new connection: [WinError 10061] No connection could be made because the target machine actively refused it\n",
      "****************** SH2 ****************\n",
      "<urllib3.connection.HTTPConnection object at 0x00000153B9550B50>: Failed to establish a new connection: [WinError 10061] No connection could be made because the target machine actively refused it\n",
      "****************** SH3 ****************\n",
      "<urllib3.connection.HTTPConnection object at 0x00000153B9552860>: Failed to establish a new connection: [WinError 10061] No connection could be made because the target machine actively refused it\n",
      "****************** Stand_1-6 ****************\n",
      "<urllib3.connection.HTTPConnection object at 0x00000153B9552590>: Failed to establish a new connection: [WinError 10061] No connection could be made because the target machine actively refused it\n",
      "****************** Stand_7-12 ****************\n",
      "<urllib3.connection.HTTPConnection object at 0x00000153B95523E0>: Failed to establish a new connection: [WinError 10061] No connection could be made because the target machine actively refused it\n",
      "****************** Stand_13-18 ****************\n",
      "<urllib3.connection.HTTPConnection object at 0x00000153B95514E0>: Failed to establish a new connection: [WinError 10061] No connection could be made because the target machine actively refused it\n",
      "****************** Furnace_Exit ****************\n",
      "<urllib3.connection.HTTPConnection object at 0x00000153B9551AE0>: Failed to establish a new connection: [WinError 10061] No connection could be made because the target machine actively refused it\n",
      "****************** Overall ****************\n",
      "<urllib3.connection.HTTPConnection object at 0x00000153B9551CC0>: Failed to establish a new connection: [WinError 10061] No connection could be made because the target machine actively refused it\n"
     ]
    }
   ],
   "source": [
    "summary_dict = {}\n",
    "top4_anomalous_signals = list()\n",
    "\n",
    "for region in region_list:\n",
    "  print(\"****************** \"+region+\" ****************\")\n",
    "  measurement = region+\"_anomaly_score_cobble\"\n",
    "  start_time = \"2024-08-01T13:11:00.000Z\"               #hardcoded for now\n",
    "  end_time = \"2024-08-01T13:17:00.000Z\"                 #hardcoded for now\n",
    "  field = \"predicted_cobble\"\n",
    "  \n",
    "  ''' querying influxdb table : <region>_anomaly_score_cobble to fetch timestamps when the predicted cobble == 1'''\n",
    "  list_of_predicted_cobble_timestamps = list()\n",
    "  query_for_anomaly_time = 'from(bucket: \"'+bucket+'\")\\\n",
    "    |> range(start: '+start_time+', stop: '+end_time+' )\\\n",
    "    |> filter(fn: (r) => r[\"_measurement\"] == \"'+measurement+'\")\\\n",
    "    |> filter(fn: (r) => r[\"_field\"] == \"predicted_cobble\")\\\n",
    "    |> filter(fn: (r) => r[\"_value\"] == 1)'\n",
    "    # |> keep(columns: [\"_time\"])'\n",
    "  try:\n",
    "      result = query_api.query(org=org,query=query_for_anomaly_time)\n",
    "  except Exception as ex:\n",
    "        print(ex)\n",
    "  else:\n",
    "    print(result)\n",
    "    for table in result:\n",
    "      for record in table.records:\n",
    "        # row = ''.join((str(record.get_time()),\", \", record.get_field(),\", \",str(record.get_value()),\"\\n\"))\n",
    "        list_of_predicted_cobble_timestamps.append(record.get_time())\n",
    "  # print(list_of_predicted_cobble_timestamps)\n",
    "  # print(\"\\n\\n\")\n",
    "\n",
    "  # querying influxdb table : <region>_loss_per_signal to fetch value of signals at given timestamp\n",
    "  measurement = region+\"_loss_per_signal\"\n",
    "  \n",
    "  for timestamp in list_of_predicted_cobble_timestamps:\n",
    "    timestamp = timestamp.strftime('%Y-%m-%dT%H:%M:%S.000Z')\n",
    "\n",
    "    if timestamp not in summary_dict:\n",
    "      summary_dict[timestamp] = {}\n",
    "    summary_dict[timestamp][region] = []\n",
    "    \n",
    "    query_for_loss_signals = 'from(bucket: \"'+bucket+'\")\\\n",
    "      |> range(start: '+start_time+', stop: '+end_time+' )\\\n",
    "      |> filter(fn: (r) => r[\"_measurement\"] == \"'+measurement+'\")\\\n",
    "      |> filter(fn: (r) => r[\"_time\"] == '+timestamp+')\\\n",
    "      |> group()\\\n",
    "      |> sort(columns: [\"_value\"], desc: true)\\\n",
    "      |> limit(n:4)\\\n",
    "      |> keep(columns: [\"_field\"])'\n",
    "\n",
    "    try:\n",
    "      result_for_loss_signals = query_api.query(org=org,query=query_for_loss_signals)\n",
    "    except Exception as ex:\n",
    "        print(\"!!!!!!!! ERROR : \"+ex)\n",
    "    else:\n",
    "      top4_anomalous_signals.clear()\n",
    "      for table in result_for_loss_signals:\n",
    "        for record in table.records:\n",
    "            top4_anomalous_signals.append(record.get_field())\n",
    "      summary_dict[timestamp][region].extend(top4_anomalous_signals)\n"
   ]
  },
  {
   "cell_type": "code",
   "execution_count": 37,
   "metadata": {},
   "outputs": [],
   "source": [
    "with open('alert_summary_16mm.json', 'w', encoding='utf-8') as f:\n",
    "    json.dump(summary_dict, f, ensure_ascii=False, indent=4)"
   ]
  },
  {
   "cell_type": "code",
   "execution_count": 8,
   "metadata": {},
   "outputs": [],
   "source": [
    "summary_to_api = {}\n",
    "\n",
    "overall_list = []\n",
    "for key1,val1 in summary_dict.items():\n",
    "    snapshot_dict = {}\n",
    "    region_list = []\n",
    "    # region_dict = {}\n",
    "    for key2,val2 in val1.items():\n",
    "        region_dict = {}\n",
    "        region_dict[\"region\"] = key2\n",
    "        region_dict[\"signals\"] = val2\n",
    "        # print(region_dict)\n",
    "        region_list.append(region_dict)\n",
    "\n",
    "    key1 = datetime.strptime(key1,'%Y-%m-%dT%H:%M:%S.000Z')\n",
    "    timestamp_offset = timedelta(hours=5, minutes=30)\n",
    "    ist_timestamp = key1 + timestamp_offset\n",
    "    timestamp_formatted = ist_timestamp.strftime('%Y-%m-%dT%H:%M:%S.000Z')\n",
    "    snapshot_dict[\"time\"] = timestamp_formatted\n",
    "    snapshot_dict[\"data\"] = region_list\n",
    "    overall_list.append(snapshot_dict)\n",
    "\n",
    "summary_to_api[bucket] = overall_list\n"
   ]
  },
  {
   "cell_type": "code",
   "execution_count": 9,
   "metadata": {},
   "outputs": [],
   "source": [
    "with open('alert_summary_16mm_new.json', 'w', encoding='utf-8') as f:\n",
    "    json.dump(summary_to_api, f, ensure_ascii=False, indent=4)"
   ]
  },
  {
   "cell_type": "code",
   "execution_count": null,
   "metadata": {},
   "outputs": [],
   "source": []
  },
  {
   "cell_type": "code",
   "execution_count": null,
   "metadata": {},
   "outputs": [],
   "source": []
  }
 ],
 "metadata": {
  "kernelspec": {
   "display_name": "Python 3",
   "language": "python",
   "name": "python3"
  },
  "language_info": {
   "codemirror_mode": {
    "name": "ipython",
    "version": 3
   },
   "file_extension": ".py",
   "mimetype": "text/x-python",
   "name": "python",
   "nbconvert_exporter": "python",
   "pygments_lexer": "ipython3",
   "version": "3.10.2"
  }
 },
 "nbformat": 4,
 "nbformat_minor": 2
}
